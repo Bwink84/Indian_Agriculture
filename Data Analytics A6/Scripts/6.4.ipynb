{
 "cells": [
  {
   "cell_type": "markdown",
   "id": "0d46adf7",
   "metadata": {},
   "source": [
    "# Content"
   ]
  },
  {
   "cell_type": "markdown",
   "id": "137c4ee6",
   "metadata": {},
   "source": [
    "## Import Libraries and Data"
   ]
  },
  {
   "cell_type": "code",
   "execution_count": 1,
   "id": "4fd7baf9",
   "metadata": {},
   "outputs": [],
   "source": [
    "# Import Libraries\n",
    "import pandas as pd\n",
    "import numpy as np\n",
    "import seaborn as sns\n",
    "import matplotlib\n",
    "import matplotlib.pyplot as plt\n",
    "import os\n",
    "import sklearn\n",
    "from sklearn.model_selection import train_test_split\n",
    "from sklearn.linear_model import LinearRegression\n",
    "from sklearn.metrics import mean_squared_error, r2_score"
   ]
  },
  {
   "cell_type": "code",
   "execution_count": 2,
   "id": "26262782",
   "metadata": {},
   "outputs": [],
   "source": [
    "# This option ensures that the graphs you create are displayed within the notebook without the need to \"call\" them specifically.\n",
    "\n",
    "%matplotlib inline"
   ]
  },
  {
   "cell_type": "code",
   "execution_count": 3,
   "id": "de5b5b1a",
   "metadata": {},
   "outputs": [],
   "source": [
    "# Set Path\n",
    "path = r'C:\\Users\\bwink\\Downloads\\Data Analytics A6'"
   ]
  },
  {
   "cell_type": "code",
   "execution_count": 14,
   "id": "810d5bbb",
   "metadata": {},
   "outputs": [],
   "source": [
    "# Import Data Set\n",
    "# 1997 was an outlier, used far more pesticide with much lower yield primarily due to locusts\n",
    "#removed zero's in production and yield. This is because the measurements are in metric tonnes, so zero values do not \n",
    "# necessarily mean absolutely nothing was produced.There are values below 1 remaining.\n",
    "df = pd.read_csv(os.path.join(path, 'Data', 'Original Data', 'crop_yield_no97cocozero.csv'))"
   ]
  },
  {
   "cell_type": "code",
   "execution_count": 15,
   "id": "8352947d",
   "metadata": {},
   "outputs": [
    {
     "data": {
      "text/html": [
       "<div>\n",
       "<style scoped>\n",
       "    .dataframe tbody tr th:only-of-type {\n",
       "        vertical-align: middle;\n",
       "    }\n",
       "\n",
       "    .dataframe tbody tr th {\n",
       "        vertical-align: top;\n",
       "    }\n",
       "\n",
       "    .dataframe thead th {\n",
       "        text-align: right;\n",
       "    }\n",
       "</style>\n",
       "<table border=\"1\" class=\"dataframe\">\n",
       "  <thead>\n",
       "    <tr style=\"text-align: right;\">\n",
       "      <th></th>\n",
       "      <th>Crop</th>\n",
       "      <th>Crop_Year</th>\n",
       "      <th>Season</th>\n",
       "      <th>State</th>\n",
       "      <th>Area</th>\n",
       "      <th>Production</th>\n",
       "      <th>Annual_Rainfall</th>\n",
       "      <th>Fertilizer</th>\n",
       "      <th>Pesticide</th>\n",
       "      <th>Yield</th>\n",
       "    </tr>\n",
       "  </thead>\n",
       "  <tbody>\n",
       "    <tr>\n",
       "      <th>0</th>\n",
       "      <td>Wheat</td>\n",
       "      <td>2019</td>\n",
       "      <td>Rabi</td>\n",
       "      <td>Madhya Pradesh</td>\n",
       "      <td>10216517.0</td>\n",
       "      <td>37507219</td>\n",
       "      <td>1446.7</td>\n",
       "      <td>1.754789e+09</td>\n",
       "      <td>3780111.29</td>\n",
       "      <td>3.519423</td>\n",
       "    </tr>\n",
       "    <tr>\n",
       "      <th>1</th>\n",
       "      <td>Wheat</td>\n",
       "      <td>2019</td>\n",
       "      <td>Rabi</td>\n",
       "      <td>Uttar Pradesh</td>\n",
       "      <td>9852504.0</td>\n",
       "      <td>36209665</td>\n",
       "      <td>814.5</td>\n",
       "      <td>1.692266e+09</td>\n",
       "      <td>3645426.48</td>\n",
       "      <td>3.688533</td>\n",
       "    </tr>\n",
       "    <tr>\n",
       "      <th>2</th>\n",
       "      <td>Wheat</td>\n",
       "      <td>2011</td>\n",
       "      <td>Rabi</td>\n",
       "      <td>Uttar Pradesh</td>\n",
       "      <td>9731150.0</td>\n",
       "      <td>31892480</td>\n",
       "      <td>777.4</td>\n",
       "      <td>1.630162e+09</td>\n",
       "      <td>3211279.50</td>\n",
       "      <td>3.253333</td>\n",
       "    </tr>\n",
       "    <tr>\n",
       "      <th>3</th>\n",
       "      <td>Wheat</td>\n",
       "      <td>2010</td>\n",
       "      <td>Rabi</td>\n",
       "      <td>Uttar Pradesh</td>\n",
       "      <td>9636540.0</td>\n",
       "      <td>30000632</td>\n",
       "      <td>742.6</td>\n",
       "      <td>1.600726e+09</td>\n",
       "      <td>2312769.60</td>\n",
       "      <td>3.077222</td>\n",
       "    </tr>\n",
       "    <tr>\n",
       "      <th>4</th>\n",
       "      <td>Wheat</td>\n",
       "      <td>2018</td>\n",
       "      <td>Rabi</td>\n",
       "      <td>Uttar Pradesh</td>\n",
       "      <td>9855900.0</td>\n",
       "      <td>38039724</td>\n",
       "      <td>792.8</td>\n",
       "      <td>1.598627e+09</td>\n",
       "      <td>3449565.00</td>\n",
       "      <td>3.855600</td>\n",
       "    </tr>\n",
       "  </tbody>\n",
       "</table>\n",
       "</div>"
      ],
      "text/plain": [
       "    Crop  Crop_Year       Season           State        Area  Production  \\\n",
       "0  Wheat       2019  Rabi         Madhya Pradesh  10216517.0    37507219   \n",
       "1  Wheat       2019  Rabi          Uttar Pradesh   9852504.0    36209665   \n",
       "2  Wheat       2011  Rabi          Uttar Pradesh   9731150.0    31892480   \n",
       "3  Wheat       2010  Rabi          Uttar Pradesh   9636540.0    30000632   \n",
       "4  Wheat       2018  Rabi          Uttar Pradesh   9855900.0    38039724   \n",
       "\n",
       "   Annual_Rainfall    Fertilizer   Pesticide     Yield  \n",
       "0           1446.7  1.754789e+09  3780111.29  3.519423  \n",
       "1            814.5  1.692266e+09  3645426.48  3.688533  \n",
       "2            777.4  1.630162e+09  3211279.50  3.253333  \n",
       "3            742.6  1.600726e+09  2312769.60  3.077222  \n",
       "4            792.8  1.598627e+09  3449565.00  3.855600  "
      ]
     },
     "execution_count": 15,
     "metadata": {},
     "output_type": "execute_result"
    }
   ],
   "source": [
    "df.head()"
   ]
  },
  {
   "cell_type": "code",
   "execution_count": 16,
   "id": "24a44a08",
   "metadata": {},
   "outputs": [
    {
     "data": {
      "text/html": [
       "<div>\n",
       "<style scoped>\n",
       "    .dataframe tbody tr th:only-of-type {\n",
       "        vertical-align: middle;\n",
       "    }\n",
       "\n",
       "    .dataframe tbody tr th {\n",
       "        vertical-align: top;\n",
       "    }\n",
       "\n",
       "    .dataframe thead th {\n",
       "        text-align: right;\n",
       "    }\n",
       "</style>\n",
       "<table border=\"1\" class=\"dataframe\">\n",
       "  <thead>\n",
       "    <tr style=\"text-align: right;\">\n",
       "      <th></th>\n",
       "      <th>Crop</th>\n",
       "      <th>Crop_Year</th>\n",
       "      <th>Season</th>\n",
       "      <th>State</th>\n",
       "      <th>Area</th>\n",
       "      <th>Production</th>\n",
       "      <th>Annual_Rainfall</th>\n",
       "      <th>Fertilizer</th>\n",
       "      <th>Pesticide</th>\n",
       "      <th>Yield</th>\n",
       "    </tr>\n",
       "  </thead>\n",
       "  <tbody>\n",
       "    <tr>\n",
       "      <th>11450</th>\n",
       "      <td>Sweet potato</td>\n",
       "      <td>1998</td>\n",
       "      <td>Whole Year</td>\n",
       "      <td>Haryana</td>\n",
       "      <td>88.0</td>\n",
       "      <td>1500</td>\n",
       "      <td>687.6000</td>\n",
       "      <td>8694.40</td>\n",
       "      <td>25.52</td>\n",
       "      <td>14.696</td>\n",
       "    </tr>\n",
       "    <tr>\n",
       "      <th>11451</th>\n",
       "      <td>Sweet potato</td>\n",
       "      <td>2004</td>\n",
       "      <td>Whole Year</td>\n",
       "      <td>Haryana</td>\n",
       "      <td>75.0</td>\n",
       "      <td>1500</td>\n",
       "      <td>484.6000</td>\n",
       "      <td>8125.50</td>\n",
       "      <td>15.75</td>\n",
       "      <td>18.602</td>\n",
       "    </tr>\n",
       "    <tr>\n",
       "      <th>11452</th>\n",
       "      <td>Garlic</td>\n",
       "      <td>2005</td>\n",
       "      <td>Whole Year</td>\n",
       "      <td>Kerala</td>\n",
       "      <td>65.0</td>\n",
       "      <td>1105</td>\n",
       "      <td>3030.9000</td>\n",
       "      <td>7794.80</td>\n",
       "      <td>13.65</td>\n",
       "      <td>17.000</td>\n",
       "    </tr>\n",
       "    <tr>\n",
       "      <th>11453</th>\n",
       "      <td>Sweet potato</td>\n",
       "      <td>2003</td>\n",
       "      <td>Whole Year</td>\n",
       "      <td>Haryana</td>\n",
       "      <td>77.0</td>\n",
       "      <td>1600</td>\n",
       "      <td>592.3000</td>\n",
       "      <td>7621.46</td>\n",
       "      <td>18.48</td>\n",
       "      <td>16.482</td>\n",
       "    </tr>\n",
       "    <tr>\n",
       "      <th>11454</th>\n",
       "      <td>Ragi</td>\n",
       "      <td>2005</td>\n",
       "      <td>Kharif</td>\n",
       "      <td>Puducherry</td>\n",
       "      <td>56.0</td>\n",
       "      <td>101</td>\n",
       "      <td>1434.5875</td>\n",
       "      <td>6715.52</td>\n",
       "      <td>11.76</td>\n",
       "      <td>1.800</td>\n",
       "    </tr>\n",
       "  </tbody>\n",
       "</table>\n",
       "</div>"
      ],
      "text/plain": [
       "               Crop  Crop_Year       Season       State  Area  Production  \\\n",
       "11450  Sweet potato       1998  Whole Year      Haryana  88.0        1500   \n",
       "11451  Sweet potato       2004  Whole Year      Haryana  75.0        1500   \n",
       "11452        Garlic       2005  Whole Year       Kerala  65.0        1105   \n",
       "11453  Sweet potato       2003  Whole Year      Haryana  77.0        1600   \n",
       "11454          Ragi       2005  Kharif       Puducherry  56.0         101   \n",
       "\n",
       "       Annual_Rainfall  Fertilizer  Pesticide   Yield  \n",
       "11450         687.6000     8694.40      25.52  14.696  \n",
       "11451         484.6000     8125.50      15.75  18.602  \n",
       "11452        3030.9000     7794.80      13.65  17.000  \n",
       "11453         592.3000     7621.46      18.48  16.482  \n",
       "11454        1434.5875     6715.52      11.76   1.800  "
      ]
     },
     "execution_count": 16,
     "metadata": {},
     "output_type": "execute_result"
    }
   ],
   "source": [
    "df.tail()"
   ]
  },
  {
   "cell_type": "code",
   "execution_count": 17,
   "id": "4e683785",
   "metadata": {},
   "outputs": [
    {
     "name": "stdout",
     "output_type": "stream",
     "text": [
      "<class 'pandas.core.frame.DataFrame'>\n",
      "RangeIndex: 11455 entries, 0 to 11454\n",
      "Data columns (total 10 columns):\n",
      " #   Column           Non-Null Count  Dtype  \n",
      "---  ------           --------------  -----  \n",
      " 0   Crop             11455 non-null  object \n",
      " 1   Crop_Year        11455 non-null  int64  \n",
      " 2   Season           11455 non-null  object \n",
      " 3   State            11455 non-null  object \n",
      " 4   Area             11455 non-null  float64\n",
      " 5   Production       11455 non-null  int64  \n",
      " 6   Annual_Rainfall  11455 non-null  float64\n",
      " 7   Fertilizer       11455 non-null  float64\n",
      " 8   Pesticide        11455 non-null  float64\n",
      " 9   Yield            11455 non-null  float64\n",
      "dtypes: float64(5), int64(2), object(3)\n",
      "memory usage: 895.1+ KB\n"
     ]
    }
   ],
   "source": [
    "df.info()"
   ]
  },
  {
   "cell_type": "code",
   "execution_count": 8,
   "id": "5aec9ca1",
   "metadata": {},
   "outputs": [
    {
     "data": {
      "text/plain": [
       "Crop_Year\n",
       "2019    1070\n",
       "2017    1062\n",
       "2018    1055\n",
       "2016    1028\n",
       "2015     989\n",
       "2013     966\n",
       "2014     955\n",
       "2011     899\n",
       "2012     887\n",
       "2009     858\n",
       "2010     853\n",
       "2008     839\n",
       "2007     821\n",
       "2006     816\n",
       "2002     807\n",
       "2005     803\n",
       "2003     793\n",
       "2004     780\n",
       "2000     765\n",
       "2001     743\n",
       "1999     644\n",
       "1998     641\n",
       "2020      37\n",
       "dtype: int64"
      ]
     },
     "execution_count": 8,
     "metadata": {},
     "output_type": "execute_result"
    }
   ],
   "source": [
    "df.value_counts('Crop_Year')"
   ]
  },
  {
   "cell_type": "code",
   "execution_count": 9,
   "id": "ecb4cb38",
   "metadata": {},
   "outputs": [
    {
     "data": {
      "text/plain": [
       "Season\n",
       "Kharif         8064\n",
       "Rabi           5641\n",
       "Whole Year     3456\n",
       "Summer         1170\n",
       "Autumn          402\n",
       "Winter          378\n",
       "dtype: int64"
      ]
     },
     "execution_count": 9,
     "metadata": {},
     "output_type": "execute_result"
    }
   ],
   "source": [
    "df.value_counts('Season')"
   ]
  },
  {
   "cell_type": "code",
   "execution_count": 10,
   "id": "0cf84fa1",
   "metadata": {},
   "outputs": [
    {
     "data": {
      "text/plain": [
       "State\n",
       "Karnataka            1380\n",
       "Andhra Pradesh       1211\n",
       "West Bengal          1030\n",
       "Chhattisgarh          908\n",
       "Bihar                 857\n",
       "Madhya Pradesh        830\n",
       "Tamil Nadu            806\n",
       "Uttar Pradesh         796\n",
       "Gujarat               787\n",
       "Uttarakhand           764\n",
       "Maharashtra           752\n",
       "Odisha                736\n",
       "Nagaland              684\n",
       "Assam                 683\n",
       "Puducherry            650\n",
       "Jammu and Kashmir     628\n",
       "Meghalaya             623\n",
       "Haryana               619\n",
       "Himachal Pradesh      616\n",
       "Kerala                507\n",
       "Tripura               441\n",
       "Manipur               434\n",
       "Mizoram               400\n",
       "Telangana             395\n",
       "Punjab                382\n",
       "Arunachal Pradesh     281\n",
       "Jharkhand             270\n",
       "Goa                   222\n",
       "Sikkim                216\n",
       "Delhi                 203\n",
       "dtype: int64"
      ]
     },
     "execution_count": 10,
     "metadata": {},
     "output_type": "execute_result"
    }
   ],
   "source": [
    "df.value_counts('State')"
   ]
  },
  {
   "cell_type": "code",
   "execution_count": 18,
   "id": "0dba1117",
   "metadata": {},
   "outputs": [
    {
     "data": {
      "text/plain": [
       "Crop\n",
       "Rice                     1096\n",
       "Maize                     788\n",
       "Urad                      482\n",
       "Moong(Green Gram)         455\n",
       "Groundnut                 419\n",
       "Wheat                     402\n",
       "Rapeseed &Mustard         390\n",
       "Potato                    369\n",
       "Sesamum                   362\n",
       "Sugarcane                 346\n",
       "Jowar                     335\n",
       "Ragi                      316\n",
       "Arhar/Tur                 305\n",
       "Small millets             288\n",
       "Gram                      287\n",
       "Sunflower                 278\n",
       "Bajra                     275\n",
       "Onion                     269\n",
       "Dry chillies              261\n",
       "Cotton(lint)              242\n",
       "Peas & beans (Pulses)     213\n",
       "Horse-gram                210\n",
       "Soyabean                  191\n",
       "Masoor                    188\n",
       "Barley                    184\n",
       "Linseed                   181\n",
       "Banana                    170\n",
       "Other  Rabi pulses        160\n",
       "Other Kharif pulses       159\n",
       "Tobacco                   155\n",
       "Niger seed                154\n",
       "Ginger                    127\n",
       "Castor seed               126\n",
       "Turmeric                  113\n",
       "Arecanut                  105\n",
       "Cashewnut                  98\n",
       "Jute                       89\n",
       "Garlic                     89\n",
       "Coriander                  86\n",
       "Mesta                      79\n",
       "Tapioca                    73\n",
       "Sweet potato               72\n",
       "Khesari                    71\n",
       "Safflower                  64\n",
       "Other Cereals              60\n",
       "Cowpea(Lobia)              48\n",
       "Black pepper               48\n",
       "Guar seed                  44\n",
       "Cardamom                   40\n",
       "Moth                       28\n",
       "Oilseeds total             28\n",
       "other oilseeds             24\n",
       "Sannhamp                   12\n",
       "Other Summer Pulses         1\n",
       "dtype: int64"
      ]
     },
     "execution_count": 18,
     "metadata": {},
     "output_type": "execute_result"
    }
   ],
   "source": [
    "#too many variables for facet grid, using scatter plots for now\n",
    "df.value_counts('Crop')"
   ]
  },
  {
   "cell_type": "markdown",
   "id": "e0ab30ee",
   "metadata": {},
   "source": [
    "# Cleaning"
   ]
  },
  {
   "cell_type": "code",
   "execution_count": 21,
   "id": "7a1f92f5",
   "metadata": {},
   "outputs": [],
   "source": []
  },
  {
   "cell_type": "code",
   "execution_count": 19,
   "id": "651ebf7b",
   "metadata": {},
   "outputs": [
    {
     "data": {
      "text/html": [
       "<div>\n",
       "<style scoped>\n",
       "    .dataframe tbody tr th:only-of-type {\n",
       "        vertical-align: middle;\n",
       "    }\n",
       "\n",
       "    .dataframe tbody tr th {\n",
       "        vertical-align: top;\n",
       "    }\n",
       "\n",
       "    .dataframe thead th {\n",
       "        text-align: right;\n",
       "    }\n",
       "</style>\n",
       "<table border=\"1\" class=\"dataframe\">\n",
       "  <thead>\n",
       "    <tr style=\"text-align: right;\">\n",
       "      <th></th>\n",
       "      <th>Crop_Year</th>\n",
       "      <th>Area</th>\n",
       "      <th>Production</th>\n",
       "      <th>Annual_Rainfall</th>\n",
       "      <th>Fertilizer</th>\n",
       "      <th>Pesticide</th>\n",
       "      <th>Yield</th>\n",
       "    </tr>\n",
       "  </thead>\n",
       "  <tbody>\n",
       "    <tr>\n",
       "      <th>count</th>\n",
       "      <td>11455.000000</td>\n",
       "      <td>1.145500e+04</td>\n",
       "      <td>1.145500e+04</td>\n",
       "      <td>11455.000000</td>\n",
       "      <td>1.145500e+04</td>\n",
       "      <td>1.145500e+04</td>\n",
       "      <td>11455.000000</td>\n",
       "    </tr>\n",
       "    <tr>\n",
       "      <th>mean</th>\n",
       "      <td>2009.165255</td>\n",
       "      <td>2.904156e+05</td>\n",
       "      <td>1.253629e+06</td>\n",
       "      <td>1288.752276</td>\n",
       "      <td>3.945974e+07</td>\n",
       "      <td>7.829436e+04</td>\n",
       "      <td>4.702515</td>\n",
       "    </tr>\n",
       "    <tr>\n",
       "      <th>std</th>\n",
       "      <td>6.311083</td>\n",
       "      <td>8.011423e+05</td>\n",
       "      <td>7.253255e+06</td>\n",
       "      <td>704.977091</td>\n",
       "      <td>1.123827e+08</td>\n",
       "      <td>2.278805e+05</td>\n",
       "      <td>13.412294</td>\n",
       "    </tr>\n",
       "    <tr>\n",
       "      <th>min</th>\n",
       "      <td>1998.000000</td>\n",
       "      <td>5.600000e+01</td>\n",
       "      <td>1.010000e+02</td>\n",
       "      <td>301.300000</td>\n",
       "      <td>6.715520e+03</td>\n",
       "      <td>7.470000e+00</td>\n",
       "      <td>0.003571</td>\n",
       "    </tr>\n",
       "    <tr>\n",
       "      <th>25%</th>\n",
       "      <td>2004.000000</td>\n",
       "      <td>1.300200e+04</td>\n",
       "      <td>1.405150e+04</td>\n",
       "      <td>890.800000</td>\n",
       "      <td>1.740821e+06</td>\n",
       "      <td>3.380000e+03</td>\n",
       "      <td>0.627639</td>\n",
       "    </tr>\n",
       "    <tr>\n",
       "      <th>50%</th>\n",
       "      <td>2009.000000</td>\n",
       "      <td>4.720000e+04</td>\n",
       "      <td>6.457400e+04</td>\n",
       "      <td>1129.500000</td>\n",
       "      <td>6.293662e+06</td>\n",
       "      <td>1.187472e+04</td>\n",
       "      <td>1.142667</td>\n",
       "    </tr>\n",
       "    <tr>\n",
       "      <th>75%</th>\n",
       "      <td>2015.000000</td>\n",
       "      <td>1.914915e+05</td>\n",
       "      <td>3.695185e+05</td>\n",
       "      <td>1465.100000</td>\n",
       "      <td>2.577587e+07</td>\n",
       "      <td>4.953110e+04</td>\n",
       "      <td>2.466588</td>\n",
       "    </tr>\n",
       "    <tr>\n",
       "      <th>max</th>\n",
       "      <td>2020.000000</td>\n",
       "      <td>1.021652e+07</td>\n",
       "      <td>1.796982e+08</td>\n",
       "      <td>6552.700000</td>\n",
       "      <td>1.754789e+09</td>\n",
       "      <td>3.780111e+06</td>\n",
       "      <td>381.420000</td>\n",
       "    </tr>\n",
       "  </tbody>\n",
       "</table>\n",
       "</div>"
      ],
      "text/plain": [
       "          Crop_Year          Area    Production  Annual_Rainfall  \\\n",
       "count  11455.000000  1.145500e+04  1.145500e+04     11455.000000   \n",
       "mean    2009.165255  2.904156e+05  1.253629e+06      1288.752276   \n",
       "std        6.311083  8.011423e+05  7.253255e+06       704.977091   \n",
       "min     1998.000000  5.600000e+01  1.010000e+02       301.300000   \n",
       "25%     2004.000000  1.300200e+04  1.405150e+04       890.800000   \n",
       "50%     2009.000000  4.720000e+04  6.457400e+04      1129.500000   \n",
       "75%     2015.000000  1.914915e+05  3.695185e+05      1465.100000   \n",
       "max     2020.000000  1.021652e+07  1.796982e+08      6552.700000   \n",
       "\n",
       "         Fertilizer     Pesticide         Yield  \n",
       "count  1.145500e+04  1.145500e+04  11455.000000  \n",
       "mean   3.945974e+07  7.829436e+04      4.702515  \n",
       "std    1.123827e+08  2.278805e+05     13.412294  \n",
       "min    6.715520e+03  7.470000e+00      0.003571  \n",
       "25%    1.740821e+06  3.380000e+03      0.627639  \n",
       "50%    6.293662e+06  1.187472e+04      1.142667  \n",
       "75%    2.577587e+07  4.953110e+04      2.466588  \n",
       "max    1.754789e+09  3.780111e+06    381.420000  "
      ]
     },
     "execution_count": 19,
     "metadata": {},
     "output_type": "execute_result"
    }
   ],
   "source": [
    "#Will look into eliminating certain crops from list\n",
    "df.describe()"
   ]
  },
  {
   "cell_type": "markdown",
   "id": "25f357f5",
   "metadata": {},
   "source": [
    "# Visualization"
   ]
  },
  {
   "cell_type": "code",
   "execution_count": 20,
   "id": "8416e402",
   "metadata": {},
   "outputs": [
    {
     "data": {
      "image/png": "[encoded data removed]",
      "text/plain": [
       "<Figure size 500x500 with 1 Axes>"
      ]
     },
     "metadata": {},
     "output_type": "display_data"
    }
   ],
   "source": [
    "# Scatterplot for Rainfall and Fertilizer\n",
    "scatter_RY = sns.lmplot(x = 'Annual_Rainfall', y = 'Yield', data = df)\n",
    "plt.savefig('scatter_RY.png')"
   ]
  },
  {
   "cell_type": "code",
   "execution_count": 21,
   "id": "355b7b4d",
   "metadata": {},
   "outputs": [
    {
     "data": {
      "image/png": "[encoded data removed]",
      "text/plain": [
       "<Figure size 500x500 with 1 Axes>"
      ]
     },
     "metadata": {},
     "output_type": "display_data"
    }
   ],
   "source": [
    "# Scatterplot for Pesticide and Yield\n",
    "scatter_PY = sns.lmplot(x = 'Pesticide', y = 'Yield', data = df)\n",
    "plt.savefig('scatter_PY.png')"
   ]
  },
  {
   "cell_type": "code",
   "execution_count": null,
   "id": "b127ea19",
   "metadata": {},
   "outputs": [],
   "source": [
    "# Scatterplot for Rainfall and Production\n",
    "scatter_RP = sns.lmplot(x = 'Annual_Rainfall', y = 'Production', data = df)\n",
    "plt.savefig('scatter_RP.png')"
   ]
  },
  {
   "cell_type": "code",
   "execution_count": 22,
   "id": "fb5754dc",
   "metadata": {},
   "outputs": [
    {
     "data": {
      "image/png": "[encoded data removed]",
      "text/plain": [
       "<Figure size 500x500 with 1 Axes>"
      ]
     },
     "metadata": {},
     "output_type": "display_data"
    }
   ],
   "source": [
    "# Scatterplot for Fertilizer and Yield\n",
    "scatter_FY = sns.lmplot(x = 'Fertilizer', y = 'Yield', data = df)\n",
    "plt.savefig('scatter_FY.png')"
   ]
  },
  {
   "cell_type": "code",
   "execution_count": 23,
   "id": "bffa9427",
   "metadata": {},
   "outputs": [
    {
     "data": {
      "image/png": "[encoded data removed]",
      "text/plain": [
       "<Figure size 500x500 with 1 Axes>"
      ]
     },
     "metadata": {},
     "output_type": "display_data"
    }
   ],
   "source": [
    "# Scatterplot for Fertilizer and Pesticide\n",
    "scatter_FP = sns.lmplot(x = 'Fertilizer', y = 'Pesticide', data = df)\n",
    "plt.savefig('scatter_FP.png')"
   ]
  },
  {
   "cell_type": "markdown",
   "id": "80a89856",
   "metadata": {},
   "source": [
    "## Hypothesis: The more fertilizer used, the more pesticide is used\n",
    "#### Using this because of apparent strength of correlation as opposed to other variables"
   ]
  },
  {
   "cell_type": "markdown",
   "id": "8667a1e2",
   "metadata": {},
   "source": [
    "# Regression Model"
   ]
  },
  {
   "cell_type": "code",
   "execution_count": 24,
   "id": "d7a5b9ee",
   "metadata": {},
   "outputs": [],
   "source": [
    "# Reshape variables into numpy arrays\n",
    "X = df['Fertilizer'].values.reshape(-1,1)\n",
    "y = df['Pesticide'].values.reshape(-1,1)"
   ]
  },
  {
   "cell_type": "code",
   "execution_count": 32,
   "id": "da3a70bb",
   "metadata": {},
   "outputs": [
    {
     "data": {
      "text/plain": [
       "array([[1.75478896e+09],\n",
       "       [1.69226609e+09],\n",
       "       [1.63016225e+09],\n",
       "       ...,\n",
       "       [9.46700000e+01],\n",
       "       [9.46700000e+01],\n",
       "       [5.41700000e+01]])"
      ]
     },
     "execution_count": 32,
     "metadata": {},
     "output_type": "execute_result"
    }
   ],
   "source": [
    "X"
   ]
  },
  {
   "cell_type": "code",
   "execution_count": 33,
   "id": "8baf7a4e",
   "metadata": {},
   "outputs": [
    {
     "data": {
      "text/plain": [
       "array([[3.78011129e+06],\n",
       "       [3.64542648e+06],\n",
       "       [3.21127950e+06],\n",
       "       ...,\n",
       "       [2.50000000e-01],\n",
       "       [2.50000000e-01],\n",
       "       [1.05000000e-01]])"
      ]
     },
     "execution_count": 33,
     "metadata": {},
     "output_type": "execute_result"
    }
   ],
   "source": [
    "y"
   ]
  },
  {
   "cell_type": "code",
   "execution_count": 25,
   "id": "604b5f3c",
   "metadata": {},
   "outputs": [],
   "source": [
    "X_train, X_test, y_train, y_test = train_test_split(X, y, test_size=0.3, random_state=0)"
   ]
  },
  {
   "cell_type": "code",
   "execution_count": 26,
   "id": "c570dab7",
   "metadata": {},
   "outputs": [],
   "source": [
    "# create object\n",
    "regression = LinearRegression()"
   ]
  },
  {
   "cell_type": "code",
   "execution_count": 37,
   "id": "d6da4940",
   "metadata": {},
   "outputs": [
    {
     "data": {
      "text/html": [
       "<style>#sk-container-id-2 {color: black;background-color: white;}#sk-container-id-2 pre{padding: 0;}#sk-container-id-2 div.sk-toggleable {background-color: white;}#sk-container-id-2 label.sk-toggleable__label {cursor: pointer;display: block;width: 100%;margin-bottom: 0;padding: 0.3em;box-sizing: border-box;text-align: center;}#sk-container-id-2 label.sk-toggleable__label-arrow:before {content: \"▸\";float: left;margin-right: 0.25em;color: #696969;}#sk-container-id-2 label.sk-toggleable__label-arrow:hover:before {color: black;}#sk-container-id-2 div.sk-estimator:hover label.sk-toggleable__label-arrow:before {color: black;}#sk-container-id-2 div.sk-toggleable__content {max-height: 0;max-width: 0;overflow: hidden;text-align: left;background-color: #f0f8ff;}#sk-container-id-2 div.sk-toggleable__content pre {margin: 0.2em;color: black;border-radius: 0.25em;background-color: #f0f8ff;}#sk-container-id-2 input.sk-toggleable__control:checked~div.sk-toggleable__content {max-height: 200px;max-width: 100%;overflow: auto;}#sk-container-id-2 input.sk-toggleable__control:checked~label.sk-toggleable__label-arrow:before {content: \"▾\";}#sk-container-id-2 div.sk-estimator input.sk-toggleable__control:checked~label.sk-toggleable__label {background-color: #d4ebff;}#sk-container-id-2 div.sk-label input.sk-toggleable__control:checked~label.sk-toggleable__label {background-color: #d4ebff;}#sk-container-id-2 input.sk-hidden--visually {border: 0;clip: rect(1px 1px 1px 1px);clip: rect(1px, 1px, 1px, 1px);height: 1px;margin: -1px;overflow: hidden;padding: 0;position: absolute;width: 1px;}#sk-container-id-2 div.sk-estimator {font-family: monospace;background-color: #f0f8ff;border: 1px dotted black;border-radius: 0.25em;box-sizing: border-box;margin-bottom: 0.5em;}#sk-container-id-2 div.sk-estimator:hover {background-color: #d4ebff;}#sk-container-id-2 div.sk-parallel-item::after {content: \"\";width: 100%;border-bottom: 1px solid gray;flex-grow: 1;}#sk-container-id-2 div.sk-label:hover label.sk-toggleable__label {background-color: #d4ebff;}#sk-container-id-2 div.sk-serial::before {content: \"\";position: absolute;border-left: 1px solid gray;box-sizing: border-box;top: 0;bottom: 0;left: 50%;z-index: 0;}#sk-container-id-2 div.sk-serial {display: flex;flex-direction: column;align-items: center;background-color: white;padding-right: 0.2em;padding-left: 0.2em;position: relative;}#sk-container-id-2 div.sk-item {position: relative;z-index: 1;}#sk-container-id-2 div.sk-parallel {display: flex;align-items: stretch;justify-content: center;background-color: white;position: relative;}#sk-container-id-2 div.sk-item::before, #sk-container-id-2 div.sk-parallel-item::before {content: \"\";position: absolute;border-left: 1px solid gray;box-sizing: border-box;top: 0;bottom: 0;left: 50%;z-index: -1;}#sk-container-id-2 div.sk-parallel-item {display: flex;flex-direction: column;z-index: 1;position: relative;background-color: white;}#sk-container-id-2 div.sk-parallel-item:first-child::after {align-self: flex-end;width: 50%;}#sk-container-id-2 div.sk-parallel-item:last-child::after {align-self: flex-start;width: 50%;}#sk-container-id-2 div.sk-parallel-item:only-child::after {width: 0;}#sk-container-id-2 div.sk-dashed-wrapped {border: 1px dashed gray;margin: 0 0.4em 0.5em 0.4em;box-sizing: border-box;padding-bottom: 0.4em;background-color: white;}#sk-container-id-2 div.sk-label label {font-family: monospace;font-weight: bold;display: inline-block;line-height: 1.2em;}#sk-container-id-2 div.sk-label-container {text-align: center;}#sk-container-id-2 div.sk-container {/* jupyter's `normalize.less` sets `[hidden] { display: none; }` but bootstrap.min.css set `[hidden] { display: none !important; }` so we also need the `!important` here to be able to override the default hidden behavior on the sphinx rendered scikit-learn.org. See: https://github.com/scikit-learn/scikit-learn/issues/21755 */display: inline-block !important;position: relative;}#sk-container-id-2 div.sk-text-repr-fallback {display: none;}</style><div id=\"sk-container-id-2\" class=\"sk-top-container\"><div class=\"sk-text-repr-fallback\"><pre>LinearRegression()</pre><b>In a Jupyter environment, please rerun this cell to show the HTML representation or trust the notebook. <br />On GitHub, the HTML representation is unable to render, please try loading this page with nbviewer.org.</b></div><div class=\"sk-container\" hidden><div class=\"sk-item\"><div class=\"sk-estimator sk-toggleable\"><input class=\"sk-toggleable__control sk-hidden--visually\" id=\"sk-estimator-id-2\" type=\"checkbox\" checked><label for=\"sk-estimator-id-2\" class=\"sk-toggleable__label sk-toggleable__label-arrow\">LinearRegression</label><div class=\"sk-toggleable__content\"><pre>LinearRegression()</pre></div></div></div></div></div>"
      ],
      "text/plain": [
       "LinearRegression()"
      ]
     },
     "execution_count": 37,
     "metadata": {},
     "output_type": "execute_result"
    }
   ],
   "source": [
    "# Fit Regression to train set\n",
    "regression.fit(X_train, y_train)"
   ]
  },
  {
   "cell_type": "code",
   "execution_count": 28,
   "id": "e0e8392b",
   "metadata": {},
   "outputs": [],
   "source": [
    "y_predicted = regression.predict(X_test)"
   ]
  },
  {
   "cell_type": "code",
   "execution_count": 38,
   "id": "0afb4d8f",
   "metadata": {},
   "outputs": [
    {
     "data": {
      "image/png": "[encoded data removed]",
      "text/plain": [
       "<Figure size 640x480 with 1 Axes>"
      ]
     },
     "metadata": {},
     "output_type": "display_data"
    }
   ],
   "source": [
    "plot_test = plt\n",
    "plot_test.scatter(X_test, y_test, color='gray', s = 15)\n",
    "plot_test.plot(X_test, y_predicted, color='red', linewidth =3)\n",
    "plot_test.title('Fertilizer vs Pesticide (Test set)')\n",
    "plot_test.xlabel('Fertilizer')\n",
    "plot_test.ylabel('Pesticide')\n",
    "plot_test.show()"
   ]
  },
  {
   "cell_type": "code",
   "execution_count": 40,
   "id": "7b919ae2",
   "metadata": {},
   "outputs": [],
   "source": [
    "# assigning variables\n",
    "rmse = mean_squared_error(y_test, y_predicted) \n",
    "r2 = r2_score(y_test, y_predicted) "
   ]
  },
  {
   "cell_type": "code",
   "execution_count": 41,
   "id": "437dc6cc",
   "metadata": {},
   "outputs": [
    {
     "name": "stdout",
     "output_type": "stream",
     "text": [
      "Slope: [[0.00199263]]\n",
      "Mean squared error:  2755878108.583513\n",
      "R2 score:  0.8943696393713892\n"
     ]
    }
   ],
   "source": [
    "print('Slope:' ,regression.coef_)\n",
    "print('Mean squared error: ', rmse)\n",
    "print('R2 score: ', r2)"
   ]
  },
  {
   "cell_type": "markdown",
   "id": "4150e2bf",
   "metadata": {},
   "source": [
    "## Positive relationship due to Slope\n",
    "## Mean squared seems astronomical, indicating it probably isn't representative of the data\n",
    "## The R2 is fairly high considering the MSE, indicating that this is approaching a good fit(?)"
   ]
  },
  {
   "cell_type": "code",
   "execution_count": 42,
   "id": "a4b9b50d",
   "metadata": {},
   "outputs": [
    {
     "data": {
      "text/html": [
       "<div>\n",
       "<style scoped>\n",
       "    .dataframe tbody tr th:only-of-type {\n",
       "        vertical-align: middle;\n",
       "    }\n",
       "\n",
       "    .dataframe tbody tr th {\n",
       "        vertical-align: top;\n",
       "    }\n",
       "\n",
       "    .dataframe thead th {\n",
       "        text-align: right;\n",
       "    }\n",
       "</style>\n",
       "<table border=\"1\" class=\"dataframe\">\n",
       "  <thead>\n",
       "    <tr style=\"text-align: right;\">\n",
       "      <th></th>\n",
       "      <th>Actual</th>\n",
       "      <th>Predicted</th>\n",
       "    </tr>\n",
       "  </thead>\n",
       "  <tbody>\n",
       "    <tr>\n",
       "      <th>0</th>\n",
       "      <td>2855.1600</td>\n",
       "      <td>2971.582874</td>\n",
       "    </tr>\n",
       "    <tr>\n",
       "      <th>1</th>\n",
       "      <td>46659.4800</td>\n",
       "      <td>48049.862448</td>\n",
       "    </tr>\n",
       "    <tr>\n",
       "      <th>2</th>\n",
       "      <td>108134.7000</td>\n",
       "      <td>89357.284132</td>\n",
       "    </tr>\n",
       "    <tr>\n",
       "      <th>3</th>\n",
       "      <td>245852.4000</td>\n",
       "      <td>203054.192491</td>\n",
       "    </tr>\n",
       "    <tr>\n",
       "      <th>4</th>\n",
       "      <td>1155.0000</td>\n",
       "      <td>1184.792391</td>\n",
       "    </tr>\n",
       "    <tr>\n",
       "      <th>5</th>\n",
       "      <td>6860.0700</td>\n",
       "      <td>7135.707973</td>\n",
       "    </tr>\n",
       "    <tr>\n",
       "      <th>6</th>\n",
       "      <td>2288.5400</td>\n",
       "      <td>4263.338972</td>\n",
       "    </tr>\n",
       "    <tr>\n",
       "      <th>7</th>\n",
       "      <td>260.7000</td>\n",
       "      <td>332.072617</td>\n",
       "    </tr>\n",
       "    <tr>\n",
       "      <th>8</th>\n",
       "      <td>10711.2600</td>\n",
       "      <td>12271.714118</td>\n",
       "    </tr>\n",
       "    <tr>\n",
       "      <th>9</th>\n",
       "      <td>29303.6700</td>\n",
       "      <td>28024.697949</td>\n",
       "    </tr>\n",
       "    <tr>\n",
       "      <th>10</th>\n",
       "      <td>2557.8000</td>\n",
       "      <td>2445.476958</td>\n",
       "    </tr>\n",
       "    <tr>\n",
       "      <th>11</th>\n",
       "      <td>17490.0000</td>\n",
       "      <td>16026.314671</td>\n",
       "    </tr>\n",
       "    <tr>\n",
       "      <th>12</th>\n",
       "      <td>1296.5700</td>\n",
       "      <td>1395.017369</td>\n",
       "    </tr>\n",
       "    <tr>\n",
       "      <th>13</th>\n",
       "      <td>7002.4500</td>\n",
       "      <td>6193.052821</td>\n",
       "    </tr>\n",
       "    <tr>\n",
       "      <th>14</th>\n",
       "      <td>2020.9800</td>\n",
       "      <td>1604.023354</td>\n",
       "    </tr>\n",
       "    <tr>\n",
       "      <th>15</th>\n",
       "      <td>11346.0900</td>\n",
       "      <td>11747.377223</td>\n",
       "    </tr>\n",
       "    <tr>\n",
       "      <th>16</th>\n",
       "      <td>29891.6100</td>\n",
       "      <td>30812.339997</td>\n",
       "    </tr>\n",
       "    <tr>\n",
       "      <th>17</th>\n",
       "      <td>1623.8200</td>\n",
       "      <td>1961.804869</td>\n",
       "    </tr>\n",
       "    <tr>\n",
       "      <th>18</th>\n",
       "      <td>939.4000</td>\n",
       "      <td>950.976387</td>\n",
       "    </tr>\n",
       "    <tr>\n",
       "      <th>19</th>\n",
       "      <td>20684.3000</td>\n",
       "      <td>19184.271201</td>\n",
       "    </tr>\n",
       "    <tr>\n",
       "      <th>20</th>\n",
       "      <td>8671.6000</td>\n",
       "      <td>8091.224358</td>\n",
       "    </tr>\n",
       "    <tr>\n",
       "      <th>21</th>\n",
       "      <td>420371.9100</td>\n",
       "      <td>478419.885466</td>\n",
       "    </tr>\n",
       "    <tr>\n",
       "      <th>22</th>\n",
       "      <td>2437.1175</td>\n",
       "      <td>1922.470574</td>\n",
       "    </tr>\n",
       "    <tr>\n",
       "      <th>23</th>\n",
       "      <td>157943.7900</td>\n",
       "      <td>168507.499445</td>\n",
       "    </tr>\n",
       "    <tr>\n",
       "      <th>24</th>\n",
       "      <td>63.4200</td>\n",
       "      <td>148.690124</td>\n",
       "    </tr>\n",
       "    <tr>\n",
       "      <th>25</th>\n",
       "      <td>86.1300</td>\n",
       "      <td>141.964827</td>\n",
       "    </tr>\n",
       "    <tr>\n",
       "      <th>26</th>\n",
       "      <td>72837.0000</td>\n",
       "      <td>230755.265812</td>\n",
       "    </tr>\n",
       "    <tr>\n",
       "      <th>27</th>\n",
       "      <td>719.0700</td>\n",
       "      <td>810.856956</td>\n",
       "    </tr>\n",
       "    <tr>\n",
       "      <th>28</th>\n",
       "      <td>1236.2400</td>\n",
       "      <td>3998.614833</td>\n",
       "    </tr>\n",
       "    <tr>\n",
       "      <th>29</th>\n",
       "      <td>104962.0000</td>\n",
       "      <td>79054.005191</td>\n",
       "    </tr>\n",
       "  </tbody>\n",
       "</table>\n",
       "</div>"
      ],
      "text/plain": [
       "         Actual      Predicted\n",
       "0     2855.1600    2971.582874\n",
       "1    46659.4800   48049.862448\n",
       "2   108134.7000   89357.284132\n",
       "3   245852.4000  203054.192491\n",
       "4     1155.0000    1184.792391\n",
       "5     6860.0700    7135.707973\n",
       "6     2288.5400    4263.338972\n",
       "7      260.7000     332.072617\n",
       "8    10711.2600   12271.714118\n",
       "9    29303.6700   28024.697949\n",
       "10    2557.8000    2445.476958\n",
       "11   17490.0000   16026.314671\n",
       "12    1296.5700    1395.017369\n",
       "13    7002.4500    6193.052821\n",
       "14    2020.9800    1604.023354\n",
       "15   11346.0900   11747.377223\n",
       "16   29891.6100   30812.339997\n",
       "17    1623.8200    1961.804869\n",
       "18     939.4000     950.976387\n",
       "19   20684.3000   19184.271201\n",
       "20    8671.6000    8091.224358\n",
       "21  420371.9100  478419.885466\n",
       "22    2437.1175    1922.470574\n",
       "23  157943.7900  168507.499445\n",
       "24      63.4200     148.690124\n",
       "25      86.1300     141.964827\n",
       "26   72837.0000  230755.265812\n",
       "27     719.0700     810.856956\n",
       "28    1236.2400    3998.614833\n",
       "29  104962.0000   79054.005191"
      ]
     },
     "execution_count": 42,
     "metadata": {},
     "output_type": "execute_result"
    }
   ],
   "source": [
    "# Dataframe to compare actual and predicted values\n",
    "data = pd.DataFrame({'Actual': y_test.flatten(), 'Predicted': y_predicted.flatten()})\n",
    "data.head(30)"
   ]
  },
  {
   "cell_type": "code",
   "execution_count": 43,
   "id": "718e2af2",
   "metadata": {},
   "outputs": [],
   "source": [
    "#Predicting x train\n",
    "y_predicted_train = regression.predict(X_train)"
   ]
  },
  {
   "cell_type": "code",
   "execution_count": 44,
   "id": "a9379e81",
   "metadata": {},
   "outputs": [],
   "source": [
    "rmse = mean_squared_error(y_train, y_predicted_train)\n",
    "r2 = r2_score(y_train, y_predicted_train)"
   ]
  },
  {
   "cell_type": "code",
   "execution_count": 45,
   "id": "d359e73a",
   "metadata": {},
   "outputs": [
    {
     "name": "stdout",
     "output_type": "stream",
     "text": [
      "Slope: [[0.00199263]]\n",
      "Mean squared error:  1884592829.089704\n",
      "R2 score:  0.9462015147599989\n"
     ]
    }
   ],
   "source": [
    "print('Slope:' ,regression.coef_)\n",
    "print('Mean squared error: ', rmse)\n",
    "print('R2 score: ', r2)"
   ]
  },
  {
   "cell_type": "code",
   "execution_count": 46,
   "id": "da435b2e",
   "metadata": {},
   "outputs": [
    {
     "data": {
      "text/html": [
       "<div>\n",
       "<style scoped>\n",
       "    .dataframe tbody tr th:only-of-type {\n",
       "        vertical-align: middle;\n",
       "    }\n",
       "\n",
       "    .dataframe tbody tr th {\n",
       "        vertical-align: top;\n",
       "    }\n",
       "\n",
       "    .dataframe thead th {\n",
       "        text-align: right;\n",
       "    }\n",
       "</style>\n",
       "<table border=\"1\" class=\"dataframe\">\n",
       "  <thead>\n",
       "    <tr style=\"text-align: right;\">\n",
       "      <th></th>\n",
       "      <th>Crop_Year</th>\n",
       "      <th>Area</th>\n",
       "      <th>Production</th>\n",
       "      <th>Annual_Rainfall</th>\n",
       "      <th>Fertilizer</th>\n",
       "      <th>Pesticide</th>\n",
       "      <th>Yield</th>\n",
       "    </tr>\n",
       "  </thead>\n",
       "  <tbody>\n",
       "    <tr>\n",
       "      <th>count</th>\n",
       "      <td>19279.000000</td>\n",
       "      <td>1.927900e+04</td>\n",
       "      <td>1.927900e+04</td>\n",
       "      <td>19279.000000</td>\n",
       "      <td>1.927900e+04</td>\n",
       "      <td>1.927900e+04</td>\n",
       "      <td>19279.000000</td>\n",
       "    </tr>\n",
       "    <tr>\n",
       "      <th>mean</th>\n",
       "      <td>2009.385497</td>\n",
       "      <td>1.751390e+05</td>\n",
       "      <td>1.646975e+07</td>\n",
       "      <td>1434.394552</td>\n",
       "      <td>2.379612e+07</td>\n",
       "      <td>4.721687e+04</td>\n",
       "      <td>80.296008</td>\n",
       "    </tr>\n",
       "    <tr>\n",
       "      <th>std</th>\n",
       "      <td>6.318922</td>\n",
       "      <td>6.339881e+05</td>\n",
       "      <td>2.631739e+08</td>\n",
       "      <td>814.853131</td>\n",
       "      <td>8.879661e+07</td>\n",
       "      <td>1.798792e+05</td>\n",
       "      <td>881.000151</td>\n",
       "    </tr>\n",
       "    <tr>\n",
       "      <th>min</th>\n",
       "      <td>1998.000000</td>\n",
       "      <td>5.000000e-01</td>\n",
       "      <td>0.000000e+00</td>\n",
       "      <td>301.300000</td>\n",
       "      <td>5.417000e+01</td>\n",
       "      <td>9.000000e-02</td>\n",
       "      <td>0.000000</td>\n",
       "    </tr>\n",
       "    <tr>\n",
       "      <th>25%</th>\n",
       "      <td>2004.000000</td>\n",
       "      <td>1.365500e+03</td>\n",
       "      <td>1.361500e+03</td>\n",
       "      <td>940.700000</td>\n",
       "      <td>1.853411e+05</td>\n",
       "      <td>3.480000e+02</td>\n",
       "      <td>0.600000</td>\n",
       "    </tr>\n",
       "    <tr>\n",
       "      <th>50%</th>\n",
       "      <td>2010.000000</td>\n",
       "      <td>9.112000e+03</td>\n",
       "      <td>1.350100e+04</td>\n",
       "      <td>1246.200000</td>\n",
       "      <td>1.209882e+06</td>\n",
       "      <td>2.359200e+03</td>\n",
       "      <td>1.031667</td>\n",
       "    </tr>\n",
       "    <tr>\n",
       "      <th>75%</th>\n",
       "      <td>2015.000000</td>\n",
       "      <td>7.312150e+04</td>\n",
       "      <td>1.203230e+05</td>\n",
       "      <td>1635.900000</td>\n",
       "      <td>9.863794e+06</td>\n",
       "      <td>1.946965e+04</td>\n",
       "      <td>2.410000</td>\n",
       "    </tr>\n",
       "    <tr>\n",
       "      <th>max</th>\n",
       "      <td>2020.000000</td>\n",
       "      <td>1.021652e+07</td>\n",
       "      <td>6.326000e+09</td>\n",
       "      <td>6552.700000</td>\n",
       "      <td>1.754789e+09</td>\n",
       "      <td>3.780111e+06</td>\n",
       "      <td>21105.000000</td>\n",
       "    </tr>\n",
       "  </tbody>\n",
       "</table>\n",
       "</div>"
      ],
      "text/plain": [
       "          Crop_Year          Area    Production  Annual_Rainfall  \\\n",
       "count  19279.000000  1.927900e+04  1.927900e+04     19279.000000   \n",
       "mean    2009.385497  1.751390e+05  1.646975e+07      1434.394552   \n",
       "std        6.318922  6.339881e+05  2.631739e+08       814.853131   \n",
       "min     1998.000000  5.000000e-01  0.000000e+00       301.300000   \n",
       "25%     2004.000000  1.365500e+03  1.361500e+03       940.700000   \n",
       "50%     2010.000000  9.112000e+03  1.350100e+04      1246.200000   \n",
       "75%     2015.000000  7.312150e+04  1.203230e+05      1635.900000   \n",
       "max     2020.000000  1.021652e+07  6.326000e+09      6552.700000   \n",
       "\n",
       "         Fertilizer     Pesticide         Yield  \n",
       "count  1.927900e+04  1.927900e+04  19279.000000  \n",
       "mean   2.379612e+07  4.721687e+04     80.296008  \n",
       "std    8.879661e+07  1.798792e+05    881.000151  \n",
       "min    5.417000e+01  9.000000e-02      0.000000  \n",
       "25%    1.853411e+05  3.480000e+02      0.600000  \n",
       "50%    1.209882e+06  2.359200e+03      1.031667  \n",
       "75%    9.863794e+06  1.946965e+04      2.410000  \n",
       "max    1.754789e+09  3.780111e+06  21105.000000  "
      ]
     },
     "execution_count": 46,
     "metadata": {},
     "output_type": "execute_result"
    }
   ],
   "source": [
    "df.describe()"
   ]
  },
  {
   "cell_type": "markdown",
   "id": "0be51a33",
   "metadata": {},
   "source": [
    "## the slope again indicates a positive correlation.\n",
    "## MSE is very high again, probably too high to consider representative\n",
    "## R2 indicates a fairly good fit!"
   ]
  },
  {
   "cell_type": "code",
   "execution_count": 47,
   "id": "85a704bf",
   "metadata": {},
   "outputs": [
    {
     "data": {
      "image/png": "[encoded data removed]",
      "text/plain": [
       "<Figure size 640x480 with 1 Axes>"
      ]
     },
     "metadata": {},
     "output_type": "display_data"
    }
   ],
   "source": [
    "plot_test = plt\n",
    "plot_test.scatter(X_train, y_train, color='green', s = 15)\n",
    "plot_test.plot(X_train, y_predicted_train, color='red', linewidth =3)\n",
    "plot_test.title('Fertilizer vs Pesticide(Train set)')\n",
    "plot_test.xlabel('Fertilizer')\n",
    "plot_test.ylabel('Pesticide')\n",
    "plot_test.show()"
   ]
  },
  {
   "cell_type": "markdown",
   "id": "8aac055f",
   "metadata": {},
   "source": [
    "# Will possibly separate Coconuts from the list of crops to be analyzed on it's own\n",
    "# India is one of the world's largest suppliers of coconuts\n",
    "# All the production numbers in the tens-hundreds of millions are from coconut production"
   ]
  },
  {
   "cell_type": "code",
   "execution_count": null,
   "id": "a6332c8e",
   "metadata": {},
   "outputs": [],
   "source": []
  }
 ],
 "metadata": {
  "kernelspec": {
   "display_name": "Python 3 (ipykernel)",
   "language": "python",
   "name": "python3"
  },
  "language_info": {
   "codemirror_mode": {
    "name": "ipython",
    "version": 3
   },
   "file_extension": ".py",
   "mimetype": "text/x-python",
   "name": "python",
   "nbconvert_exporter": "python",
   "pygments_lexer": "ipython3",
   "version": "3.11.3"
  }
 },
 "nbformat": 4,
 "nbformat_minor": 5
}
